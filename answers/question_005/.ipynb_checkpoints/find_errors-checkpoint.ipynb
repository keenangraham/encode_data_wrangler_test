{
 "cells": [
  {
   "cell_type": "code",
   "execution_count": 1,
   "metadata": {
    "collapsed": true
   },
   "outputs": [],
   "source": [
    "import numpy as np\n",
    "import pandas as pd"
   ]
  },
  {
   "cell_type": "code",
   "execution_count": 108,
   "metadata": {
    "collapsed": false
   },
   "outputs": [],
   "source": [
    "features = pd.read_excel(\"../../data/question_005/SGD-Features.xlsx\")"
   ]
  },
  {
   "cell_type": "code",
   "execution_count": 119,
   "metadata": {
    "collapsed": false
   },
   "outputs": [],
   "source": [
    "def enforce_constraints(rule):\n",
    "    \"\"\"\n",
    "    Create a list of entries that violate\n",
    "    the specified constraints.\n",
    "    \"\"\"\n",
    "    \n",
    "    column = rule['column']\n",
    "    rows = features[\"Row\"].values\n",
    "    rules = rule['constraints']\n",
    "    data = features[rule['column']]\n",
    "    \n",
    "    error_log = []\n",
    "    \n",
    "    if 'not_null' in rules:\n",
    "        for i, y in enumerate(data.isnull().values):\n",
    "            if y:\n",
    "                error_log.append({\n",
    "                        'column': column,\n",
    "                        'row': rows[i],\n",
    "                        'problem': \"is null\"\n",
    "                    })\n",
    "    \n",
    "    if 'no_whitespace' in rules:\n",
    "        pass\n",
    "    \n",
    "    if 'is_unique' in rules:\n",
    "        pass\n",
    "    \n",
    "    if 'is_digit' in rules:\n",
    "        pass\n",
    "    \n",
    "    if 'is_consecutive' in rules:\n",
    "        pass\n",
    "    \n",
    "    if 'is_orf' in rules:\n",
    "        pass\n",
    "    \n",
    "    if 'is_gene_name' in rules:\n",
    "        pass\n",
    "    \n",
    "    if 'is_higher_than_start' in rules:\n",
    "        pass\n",
    "    \n",
    "    if 'is_lower_than_stop' in rules:\n",
    "        pass\n",
    "    \n",
    "    if 'is_w_or_c' in rules:\n",
    "        pass\n",
    "    \n",
    "    if 'is_yyyymmdd_format' in rules:\n",
    "        pass\n",
    "    \n",
    "    if 'is_sentence' in rules:\n",
    "        pass\n",
    "        \n",
    "    return error_log"
   ]
  },
  {
   "cell_type": "code",
   "execution_count": 120,
   "metadata": {
    "collapsed": false
   },
   "outputs": [],
   "source": [
    "# Check if any row is right shifted. \n",
    "\n"
   ]
  },
  {
   "cell_type": "code",
   "execution_count": 121,
   "metadata": {
    "collapsed": false
   },
   "outputs": [
    {
     "name": "stdout",
     "output_type": "stream",
     "text": [
      "[]\n",
      "[{'row': 114, 'problem': 'is null', 'column': 'Primary SGDID'}]\n",
      "[]\n",
      "[]\n",
      "[]\n",
      "[]\n",
      "[]\n",
      "[]\n",
      "[]\n",
      "[]\n",
      "[]\n",
      "[]\n"
     ]
    }
   ],
   "source": [
    "for column in rules:\n",
    "    print(enforce_constraints(column))"
   ]
  },
  {
   "cell_type": "code",
   "execution_count": 118,
   "metadata": {
    "collapsed": false
   },
   "outputs": [],
   "source": [
    "# Bind constraints to columns\n",
    "rules = [\n",
    "    {\n",
    "        'column': 'Row',\n",
    "        'constraints': ['not_null', 'no_whitespace', 'is_consecutive']\n",
    "    },\n",
    "    {\n",
    "        'column': 'Primary SGDID',\n",
    "        'constraints': ['not_null', 'no_whitespace', 'is_unique']\n",
    "    },\n",
    "    {\n",
    "        'column': 'Feature type',\n",
    "        'constraints': ['not_null', 'no_whitespace', 'is_orf']\n",
    "    },\n",
    "    {\n",
    "        'column': 'Feature name',\n",
    "        'constraints': ['no_whitespace']\n",
    "    },\n",
    "    {\n",
    "        'column': 'Gene name',\n",
    "        'constraints': ['no_whitespace', 'is_gene_name']\n",
    "    },\n",
    "    {\n",
    "        'column': 'Secondary SGDID',\n",
    "        'constraints': ['no_whitespace']\n",
    "    },\n",
    "    {\n",
    "        'column': 'Chromosome',\n",
    "        'constraints': ['no_whitespace', 'is_digit']\n",
    "    },\n",
    "    {\n",
    "        'column': 'Start coordinate',\n",
    "        'constraints': ['not_null', 'no_whitespace', 'is_digit', 'is_lower_than_stop']\n",
    "    },\n",
    "    {\n",
    "        'column': 'Stop coordinate',\n",
    "        'constraints': ['not_null', 'no_whitespace', 'is_digit', 'is_higher_than_start']\n",
    "    },\n",
    "    {\n",
    "        'column': 'Strand',\n",
    "        'constraints': ['not_null', 'no_whitespace', 'is_w_or_c']},\n",
    "    {\n",
    "        'column': 'Sequence version date',\n",
    "        'constraints': ['no_whitespace', 'is_yyyymmdd_format']},\n",
    "    {\n",
    "        'column': 'Description',\n",
    "        'constraints': ['no_whitespace', 'is_sentence']\n",
    "    }\n",
    "]\n"
   ]
  }
 ],
 "metadata": {
  "kernelspec": {
   "display_name": "Python [Root]",
   "language": "python",
   "name": "Python [Root]"
  },
  "language_info": {
   "codemirror_mode": {
    "name": "ipython",
    "version": 3
   },
   "file_extension": ".py",
   "mimetype": "text/x-python",
   "name": "python",
   "nbconvert_exporter": "python",
   "pygments_lexer": "ipython3",
   "version": "3.4.5"
  }
 },
 "nbformat": 4,
 "nbformat_minor": 0
}
